{
 "cells": [
  {
   "cell_type": "code",
   "execution_count": 27,
   "metadata": {},
   "outputs": [],
   "source": [
    "import sys\n",
    "sys.executable\n",
    "import torch\n",
    "import os\n",
    "import sys\n",
    "sys.path.append('../')\n",
    "from models import *\n",
    "import config\n",
    "import numpy as np\n",
    "from collections import defaultdict\n",
    "from scipy.sparse.csgraph import connected_components\n",
    "from scipy.sparse import csr_matrix"
   ]
  },
  {
   "cell_type": "code",
   "execution_count": 2,
   "metadata": {},
   "outputs": [],
   "source": [
    "in_path = '../benchmarks/ECB_rpi/'"
   ]
  },
  {
   "cell_type": "code",
   "execution_count": 5,
   "metadata": {},
   "outputs": [
    {
     "data": {
      "text/plain": [
       "3591"
      ]
     },
     "execution_count": 5,
     "metadata": {},
     "output_type": "execute_result"
    }
   ],
   "source": [
    "with open( in_path + 'entity2id.txt') as nf:\n",
    "    lines = [line.strip().split('\\t') for line in nf.readlines()[1:]]\n",
    "    ent2id = {line[0]:int(line[1]) for line in lines if 'events' in line[0]}\n",
    "len(ent2id)"
   ]
  },
  {
   "cell_type": "code",
   "execution_count": 11,
   "metadata": {},
   "outputs": [],
   "source": [
    "with open(in_path + '/triples/eve_map.csv') as ef:\n",
    "    lines = [line.strip().split(',') for line in ef.readlines() if line.strip().split(',')[1] in ent2id]\n",
    "win_doc_dict = {line[0]:line[1] for line in lines}"
   ]
  },
  {
   "cell_type": "code",
   "execution_count": 15,
   "metadata": {},
   "outputs": [],
   "source": [
    "event_ids_dict = ent2id\n",
    "id2event_dict = {val:key for key, val in event_ids_dict.items()}\n",
    "event_ids = event_ids_dict.values()\n",
    "event2ind = {eve:i for i, eve in enumerate(event_ids_dict.keys())}\n",
    "ind2event = {i:eve for eve, i in event2ind.items()}"
   ]
  },
  {
   "cell_type": "code",
   "execution_count": 17,
   "metadata": {},
   "outputs": [],
   "source": [
    "con2 = config.Config()\n",
    "con2.set_in_path(in_path)\n",
    "con2.init()"
   ]
  },
  {
   "cell_type": "code",
   "execution_count": 20,
   "metadata": {},
   "outputs": [
    {
     "data": {
      "text/plain": [
       "IncompatibleKeys(missing_keys=[], unexpected_keys=[])"
      ]
     },
     "execution_count": 20,
     "metadata": {},
     "output_type": "execute_result"
    }
   ],
   "source": [
    "gte = GraphTransE(con2)\n",
    "gte.load_state_dict(torch.load('../result/GraphTransE.ckpt'))"
   ]
  },
  {
   "cell_type": "code",
   "execution_count": 23,
   "metadata": {},
   "outputs": [],
   "source": [
    "tfidf_tensor = sparse_tensor(gte.tf_idf_mat)\n",
    "ent_emb_mat = gte.ent_char_weights(tfidf_tensor).cpu().data.numpy()\n",
    "rel_emb_mat = gte.rel_embeddings.weight.data.numpy()"
   ]
  },
  {
   "cell_type": "code",
   "execution_count": 24,
   "metadata": {},
   "outputs": [],
   "source": [
    "event_embeddings_2 = ent_emb_mat[list(event_ids), :]"
   ]
  },
  {
   "cell_type": "code",
   "execution_count": 29,
   "metadata": {},
   "outputs": [
    {
     "data": {
      "text/plain": [
       "<3591x3591 sparse matrix of type '<class 'numpy.bool_'>'\n",
       "\twith 77813 stored elements in Compressed Sparse Row format>"
      ]
     },
     "execution_count": 29,
     "metadata": {},
     "output_type": "execute_result"
    }
   ],
   "source": [
    "event_embeddings_normed2 = np.array(event_embeddings_2)\n",
    "event_embeddings_normed2 = event_embeddings_normed2/(np.linalg.norm(event_embeddings_normed2, axis=1).reshape((-1,1)))\n",
    "eve_sim_mat2 = event_embeddings_normed2.dot(event_embeddings_normed2.T)\n",
    "eve_adj_mat2 = csr_matrix(eve_sim_mat2 > 0.999)\n",
    "eve_adj_mat2"
   ]
  },
  {
   "cell_type": "code",
   "execution_count": 36,
   "metadata": {},
   "outputs": [],
   "source": [
    "def get_connected_components(adjacency_mat):\n",
    "    n_components, labels = connected_components(csgraph=adjacency_mat, directed=False, return_labels=True)\n",
    "    clusters = defaultdict(list)\n",
    "    for id_, lab in enumerate(labels):\n",
    "        clusters[lab] += [id_]\n",
    "    return clusters.values()"
   ]
  },
  {
   "cell_type": "code",
   "execution_count": 38,
   "metadata": {},
   "outputs": [],
   "source": [
    "eve_clusters = get_connected_components(eve_adj_mat2)\n",
    "eve_clusters_big = [clus for clus in eve_clusters if len(clus) >= 2]"
   ]
  },
  {
   "cell_type": "code",
   "execution_count": 52,
   "metadata": {},
   "outputs": [],
   "source": [
    "eveid_clus_dict = {}\n",
    "clus_num = 0\n",
    "for clus in eve_clusters:\n",
    "    for eve_ind in clus:\n",
    "        eveid_clus_dict[ind2event[eve_ind]] = str(clus_num)\n",
    "    clus_num+=1"
   ]
  },
  {
   "cell_type": "code",
   "execution_count": 53,
   "metadata": {},
   "outputs": [],
   "source": [
    "cross_doc_dict = {}\n",
    "for key, val in win_doc_dict.items():\n",
    "    cross_doc_dict[key] = eveid_clus_dict[val]"
   ]
  },
  {
   "cell_type": "code",
   "execution_count": 55,
   "metadata": {},
   "outputs": [],
   "source": [
    "with open('event_win_clus.txt', 'w') as tf:\n",
    "    tf.write('\\n'.join([','.join(item) for item in win_doc_dict.items()]))\n",
    "with open('event_clusters.txt', 'w') as tf:\n",
    "    tf.write('\\n'.join([','.join(item) for item in cross_doc_dict.items()]))"
   ]
  },
  {
   "cell_type": "code",
   "execution_count": null,
   "metadata": {},
   "outputs": [],
   "source": []
  }
 ],
 "metadata": {
  "kernelspec": {
   "display_name": "Python 3",
   "language": "python",
   "name": "python3"
  },
  "language_info": {
   "codemirror_mode": {
    "name": "ipython",
    "version": 3
   },
   "file_extension": ".py",
   "mimetype": "text/x-python",
   "name": "python",
   "nbconvert_exporter": "python",
   "pygments_lexer": "ipython3",
   "version": "3.6.8"
  }
 },
 "nbformat": 4,
 "nbformat_minor": 2
}
