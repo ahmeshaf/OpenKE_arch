{
 "cells": [
  {
   "cell_type": "code",
   "execution_count": 18,
   "metadata": {},
   "outputs": [],
   "source": [
    "import sys\n",
    "sys.path.append('../')\n",
    "import config\n",
    "from collections import OrderedDict, defaultdict\n",
    "from models import *\n",
    "from models.CharTransE import *\n",
    "import numpy as np\n",
    "from scipy.sparse.csgraph import connected_components\n",
    "from scipy.sparse import csr_matrix\n",
    "import csv\n",
    "import torch"
   ]
  },
  {
   "cell_type": "code",
   "execution_count": 19,
   "metadata": {},
   "outputs": [],
   "source": [
    "con = config.Config()\n",
    "\n",
    "con.set_in_path(\"../benchmarks/corefData/seed1/\")\n",
    "con.set_result_dir(\"../result/corefData_seed1/\")\n",
    "\n",
    "con.init()"
   ]
  },
  {
   "cell_type": "code",
   "execution_count": 20,
   "metadata": {},
   "outputs": [],
   "source": [
    "ent2id = OrderedDict()\n",
    "id2ent = OrderedDict()\n",
    "with open( con.in_path + 'entity2id.txt') as nf:\n",
    "    lines = [line.split('\\t') for line in nf.readlines()[1:]]\n",
    "    ent2id = {line[0].strip():int(line[1]) for line in lines}\n",
    "    id2ent = {int(line[1]):line[0] for line in lines}\n",
    "    \n",
    "#name_ids = [id_ for ent, id_ in ent2id.items() if not ent.startswith('http')]\n",
    "#ent_ids = [id_ for ent, id_ in ent2id.items() if 'entities' in ent]\n",
    "ent_ids = [id_ for ent, id_ in ent2id.items()]\n",
    "    \n",
    "             \n",
    "trip_dict = defaultdict(list) #groups entries of the same head together{head:[list of entries with this head]}\n",
    "with open(con.in_path + 'train2id.txt') as rf:\n",
    "    triples = [[int(el) for el in line.split(' ')] for line in rf.readlines()[1:]]\n",
    "    for trip in triples:\n",
    "        trip_dict[trip[0]] += [trip]"
   ]
  },
  {
   "cell_type": "code",
   "execution_count": 21,
   "metadata": {},
   "outputs": [
    {
     "name": "stderr",
     "output_type": "stream",
     "text": [
      "/anaconda3/lib/python3.6/site-packages/torch/nn/_reduction.py:46: UserWarning: size_average and reduce args will be deprecated, please use reduction='sum' instead.\n",
      "  warnings.warn(warning.format(ret))\n",
      "../models/TransE.py:19: UserWarning: nn.init.xavier_uniform is now deprecated in favor of nn.init.xavier_uniform_.\n",
      "  nn.init.xavier_uniform(self.ent_embeddings.weight.data)\n",
      "../models/TransE.py:20: UserWarning: nn.init.xavier_uniform is now deprecated in favor of nn.init.xavier_uniform_.\n",
      "  nn.init.xavier_uniform(self.rel_embeddings.weight.data)\n"
     ]
    },
    {
     "data": {
      "text/plain": [
       "IncompatibleKeys(missing_keys=[], unexpected_keys=[])"
      ]
     },
     "execution_count": 21,
     "metadata": {},
     "output_type": "execute_result"
    }
   ],
   "source": [
    "# cte = CharTransE(con)\n",
    "# cte.load_state_dict(torch.load(con.result_dir +  'CharTransE.ckpt'))\n",
    "te = TransE(con)\n",
    "te.load_state_dict(torch.load(con.result_dir + 'TransE.ckpt'))"
   ]
  },
  {
   "cell_type": "code",
   "execution_count": 22,
   "metadata": {},
   "outputs": [],
   "source": [
    "ent_emb_mat = te.ent_embeddings.weight.data.numpy()\n",
    "rel_emb_mat = te.rel_embeddings.weight.data.numpy()"
   ]
  },
  {
   "cell_type": "code",
   "execution_count": 23,
   "metadata": {},
   "outputs": [
    {
     "name": "stdout",
     "output_type": "stream",
     "text": [
      "(101, 100)\n",
      "(3178, 100)\n"
     ]
    }
   ],
   "source": [
    "print(rel_emb_mat.shape)\n",
    "print(ent_emb_mat.shape)"
   ]
  },
  {
   "cell_type": "code",
   "execution_count": 24,
   "metadata": {},
   "outputs": [],
   "source": [
    "# get the combined embedding for each head\n",
    "# and we only consider heads which are entities\n",
    "def get_ent_embs_comb():\n",
    "    emb_dict = {}\n",
    "    for ent_id in ent_ids:\n",
    "        trips = trip_dict[ent_id]\n",
    "        #emb_rel = np.zeros(ent_emb_mat.shape[1]) #creat an np array of zeros of size 100\n",
    "        emb = ent_emb_mat[ent_id, :] #get the embedding for the head \n",
    "        #name_emb = np.zeros(ent_emb_mat.shape[1]) #creat an np array of zeros of size 100\n",
    "        #print('emb_rel', emb_rel.shape)\n",
    "        #print('emb', emb.shape)\n",
    "        #print('name_emb', name_emb.shape)\n",
    "        #print('---------')\n",
    "        emb_comb = np.zeros(ent_emb_mat.shape[1])\n",
    "        emb_char = np.zeros(ent_emb_mat.shape[1])\n",
    "        hasnamecount = 0\n",
    "\n",
    "        num_names = 0\n",
    "        for t in trips:\n",
    "            tail = t[1]\n",
    "            rel = t[2]\n",
    "            if rel == 1:\n",
    "                emb_char += ent_emb_mat[tail, :]\n",
    "                num_names += 1\n",
    "        if num_names != 0:\n",
    "            emb_char /= num_names\n",
    "    #     else:\n",
    "    #         emb_char = emb\n",
    "        for t in trips:\n",
    "    #         head = t[0]\n",
    "            tail = t[1]\n",
    "            rel = t[2]\n",
    "\n",
    "            tail_emb = ent_emb_mat[tail, :] # embedding of the tail\n",
    "            rel_emb = rel_emb_mat[rel, :] # embedding of the relation\n",
    "    #         if rel != 1:\n",
    "    #             emb_comb +=  emb_head * tail_emb * rel_emb\n",
    "            if rel == 1:\n",
    "    #             emb_rel = emb_rel + tail_emb\n",
    "    #             emb_comb += tail_emb\n",
    "                pass\n",
    "            else:\n",
    "                emb_comb += 0.05*emb * tail_emb * rel_emb\n",
    "\n",
    "    #         emb_comb *= (tail_emb + rel_emb)\n",
    "            emb_comb = emb_char  + emb_comb\n",
    "    #         emb_comb = emb_head + emb_comb\n",
    "    #     emb = emb + (emb_rel/len(trips))\n",
    "        #if hasnamecount != 1:\n",
    "        #    print(hasnamecount, '\\t', trips)\n",
    "        #ent_embeddings.append(emb + name_emb)\n",
    "        emb_dict[ent_id] = torch.from_numpy(emb_comb).reshape((1,-1))\n",
    "    return emb_dict"
   ]
  },
  {
   "cell_type": "code",
   "execution_count": 25,
   "metadata": {},
   "outputs": [],
   "source": [
    "def get_ent_embs_solo():\n",
    "    emb_dict = {}\n",
    "    for ent_id in ent_ids:\n",
    "        trips = trip_dict[ent_id]\n",
    "        #emb_rel = np.zeros(ent_emb_mat.shape[1]) #creat an np array of zeros of size 100\n",
    "        emb = ent_emb_mat[ent_id, :] #get the embedding for the head \n",
    "        #name_emb = np.zeros(ent_emb_mat.shape[1]) #creat an np array of zeros of size 100\n",
    "        #print('emb_rel', emb_rel.shape)\n",
    "        #print('emb', emb.shape)\n",
    "        #print('name_emb', name_emb.shape)\n",
    "        #print('---------')\n",
    "        emb_comb = np.zeros(ent_emb_mat.shape[1])\n",
    "        emb_char = np.zeros(ent_emb_mat.shape[1])\n",
    "        hasnamecount = 0\n",
    "\n",
    "        num_names = 0\n",
    "        for t in trips:\n",
    "            tail = t[1]\n",
    "            rel = t[2]\n",
    "            if rel == 1:\n",
    "                emb_char += ent_emb_mat[tail, :]\n",
    "                num_names += 1\n",
    "        if num_names != 0:\n",
    "            emb_char /= num_names\n",
    "        emb_dict[ent_id] = torch.from_numpy(emb_char + emb).reshape((1,-1))\n",
    "    return emb_dict"
   ]
  },
  {
   "cell_type": "code",
   "execution_count": 26,
   "metadata": {},
   "outputs": [],
   "source": [
    "entid_embeddings_dict = get_ent_embs_comb()\n",
    "#emb1 = entid_embeddings_dict[1]\n",
    "#emb2 = entid_embeddings_dict[2]\n",
    "#cossim = torch.nn.functional.cosine_similarity(emb1, emb2)\n",
    "#cossim2 = np.maximum(-1, torch.nn.functional.cosine_similarity(emb1, emb2).cpu().data.numpy())"
   ]
  },
  {
   "cell_type": "code",
   "execution_count": 27,
   "metadata": {},
   "outputs": [
    {
     "data": {
      "text/plain": [
       "3178"
      ]
     },
     "execution_count": 27,
     "metadata": {},
     "output_type": "execute_result"
    }
   ],
   "source": [
    "len(entid_embeddings_dict)"
   ]
  },
  {
   "cell_type": "code",
   "execution_count": 28,
   "metadata": {},
   "outputs": [],
   "source": [
    "def sim(emb, id1, id2):\n",
    "    emb1 = emb[id1]\n",
    "    emb2 = emb[id2]\n",
    "    #return torch.nn.functional.cosine_similarity(emb1, emb2)\n",
    "    #return np.maximum(0, torch.nn.functional.cosine_similarity(emb1, emb2).cpu().data.numpy())[0]\n",
    "    return np.maximum(-1, torch.nn.functional.cosine_similarity(emb1, emb2).cpu().data.numpy())[0]\n",
    "\n",
    "def sim_score(emb, evalData):\n",
    "    simscorelist = []\n",
    "    zerolist = []\n",
    "    for id1, id2 in evalData:\n",
    "        if id1 not in emb:\n",
    "            print(id1)\n",
    "        if id2 not in emb:\n",
    "            print(id2)\n",
    "        cossim = sim(emb, id1, id2)\n",
    "        #print('->', cossim)\n",
    "        simscorelist.append(cossim)\n",
    "        if cossim == 0:\n",
    "            zerolist.append((id1, id2))\n",
    "    return simscorelist, max(simscorelist), min(simscorelist), sum(simscorelist)/len(simscorelist), zerolist"
   ]
  },
  {
   "cell_type": "code",
   "execution_count": 29,
   "metadata": {},
   "outputs": [],
   "source": [
    "def getCorefPairs(fin, ent2id):\n",
    "    simEvalDataSource = []\n",
    "    with open(fin) as f:\n",
    "        for line in f:\n",
    "            line = line.strip().split('\\t')\n",
    "            item1 = line[0].strip()\n",
    "            item2 = line[1].strip()\n",
    "            if item1 in ent2id and item2 in ent2id:\n",
    "                simEvalDataSource.append([ent2id[item1], ent2id[item2]])\n",
    "            else:\n",
    "                print('OOV:', item1, '\\t', item2)\n",
    "#                 if 'entities' not in item1:\n",
    "#                     print(item1)\n",
    "#                 if 'entities' not in item2:\n",
    "#                     print(item2)\n",
    "    return simEvalDataSource"
   ]
  },
  {
   "cell_type": "code",
   "execution_count": 30,
   "metadata": {},
   "outputs": [
    {
     "name": "stdout",
     "output_type": "stream",
     "text": [
      "...reading data\n",
      "...calculating similarity score\n",
      "Source similarity of Identical target:\n",
      "\tavg:\t 0.6026004147656875 \tSize of data:\t 141\n",
      "\tmax:\t 0.9999999694298163 \tmin:\t -0.14551433266024688 \tNum of zero score pairs:\t 0\n"
     ]
    }
   ],
   "source": [
    "# coref pairs\n",
    "print('...reading data')\n",
    "fin = '../benchmarks/corefData/corefpairlist.txt'\n",
    "simEvalData = getCorefPairs(fin, ent2id)\n",
    "\n",
    "print('...calculating similarity score')\n",
    "scorelist, maxscore, minscore, avgscore, zerolist = sim_score(entid_embeddings_dict, simEvalData)\n",
    "#print(sim_cte_bias)\n",
    "#print('->', len(sim_cte_bias))\n",
    "\n",
    "\n",
    "print('Source similarity of Identical target:')\n",
    "print('\\tavg:\\t', avgscore, '\\tSize of data:\\t', len(simEvalData))\n",
    "print('\\tmax:\\t', maxscore, '\\tmin:\\t', minscore, '\\tNum of zero score pairs:\\t', len(zerolist))"
   ]
  },
  {
   "cell_type": "code",
   "execution_count": 31,
   "metadata": {},
   "outputs": [
    {
     "data": {
      "image/png": "[encoded data removed]",
      "text/plain": [
       "<Figure size 432x288 with 1 Axes>"
      ]
     },
     "metadata": {
      "needs_background": "light"
     },
     "output_type": "display_data"
    }
   ],
   "source": [
    "%matplotlib inline\n",
    "\n",
    "import matplotlib\n",
    "import matplotlib.pyplot as plt\n",
    "import numpy as np\n",
    "#x = np.array([i+1 for i in range(len(scorelist))])\n",
    "#y = np.array(scorelist)\n",
    "#plt.scatter(x, y)\n",
    "plt.hist(scorelist)\n",
    "plt.show()"
   ]
  },
  {
   "cell_type": "markdown",
   "metadata": {},
   "source": [
    "## Random hasName head pairs"
   ]
  },
  {
   "cell_type": "code",
   "execution_count": 32,
   "metadata": {},
   "outputs": [],
   "source": [
    "import random\n",
    "import csv\n",
    "\n",
    "\n",
    "def getRandomPairs(fin, ent2id, num=100):\n",
    "    randompairlist = []\n",
    "    headlist = []\n",
    "    with open(fin) as f:\n",
    "        csv_reader = csv.reader(f, delimiter=',')\n",
    "        for row in csv_reader:\n",
    "            headlist.append(row[-1].strip())\n",
    "    headlist = list(set(headlist))\n",
    "    while num > 0:\n",
    "        random.shuffle(headlist)\n",
    "        h1 = headlist[0]\n",
    "        random.shuffle(headlist)\n",
    "        h2 = headlist[0]\n",
    "        if h1 in ent2id and h2 in ent2id:\n",
    "            randompairlist.append((ent2id[h1], ent2id[h2]))\n",
    "            num -= 1\n",
    "        else:\n",
    "            print(num)\n",
    "    return randompairlist"
   ]
  },
  {
   "cell_type": "code",
   "execution_count": 33,
   "metadata": {},
   "outputs": [
    {
     "name": "stdout",
     "output_type": "stream",
     "text": [
      "...generating data\n",
      "...calculating similarity score\n",
      "Source similarity of Identical target:\n",
      "\tavg:\t 0.15633742242455148 \tSize of data:\t 100\n",
      "\tmax:\t 0.9399619134443998 \tmin:\t -0.19778175920942792 \tNum of zero score pairs:\t 0\n"
     ]
    }
   ],
   "source": [
    "# Random pairs\n",
    "print('...generating data')\n",
    "\n",
    "frandom = '../benchmarks/corefData/just_2_ent_win.txt'\n",
    "randompairlist = getRandomPairs(frandom, ent2id)\n",
    "simEvalData = randompairlist\n",
    "\n",
    "print('...calculating similarity score')\n",
    "scorelist, maxscore, minscore, avgscore, zerolist = sim_score(entid_embeddings_dict, simEvalData)\n",
    "#print(sim_cte_bias)\n",
    "#print('->', len(sim_cte_bias))\n",
    "\n",
    "print('Source similarity of Identical target:')\n",
    "print('\\tavg:\\t', avgscore, '\\tSize of data:\\t', len(simEvalData))\n",
    "print('\\tmax:\\t', maxscore, '\\tmin:\\t', minscore, '\\tNum of zero score pairs:\\t', len(zerolist))"
   ]
  },
  {
   "cell_type": "code",
   "execution_count": 34,
   "metadata": {},
   "outputs": [
    {
     "data": {
      "image/png": "[encoded data removed]",
      "text/plain": [
       "<Figure size 432x288 with 1 Axes>"
      ]
     },
     "metadata": {
      "needs_background": "light"
     },
     "output_type": "display_data"
    }
   ],
   "source": [
    "%matplotlib inline\n",
    "\n",
    "import matplotlib\n",
    "import matplotlib.pyplot as plt\n",
    "import numpy as np\n",
    "#x = np.array([i+1 for i in range(len(scorelist))])\n",
    "#y = np.array(scorelist)\n",
    "#plt.scatter(x, y)\n",
    "plt.hist(scorelist)\n",
    "plt.show()"
   ]
  },
  {
   "cell_type": "code",
   "execution_count": null,
   "metadata": {},
   "outputs": [],
   "source": []
  }
 ],
 "metadata": {
  "kernelspec": {
   "display_name": "Python 3",
   "language": "python",
   "name": "python3"
  },
  "language_info": {
   "codemirror_mode": {
    "name": "ipython",
    "version": 3
   },
   "file_extension": ".py",
   "mimetype": "text/x-python",
   "name": "python",
   "nbconvert_exporter": "python",
   "pygments_lexer": "ipython3",
   "version": "3.6.8"
  }
 },
 "nbformat": 4,
 "nbformat_minor": 2
}
